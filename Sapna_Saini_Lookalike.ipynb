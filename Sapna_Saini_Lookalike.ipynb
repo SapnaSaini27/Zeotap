{
 "cells": [
  {
   "cell_type": "code",
   "execution_count": 10,
   "id": "10189dbd-d1c0-48ee-b647-e0d708907677",
   "metadata": {},
   "outputs": [],
   "source": [
    "import pandas as pd\n",
    "from sklearn.metrics.pairwise import cosine_similarity\n",
    "from sklearn.preprocessing import StandardScaler\n",
    "\n",
    "\n"
   ]
  },
  {
   "cell_type": "code",
   "execution_count": 11,
   "id": "2e147b93-0b59-4fda-92e1-e068a46ba3ec",
   "metadata": {},
   "outputs": [],
   "source": [
    "# Load datasets\n",
    "customers = pd.read_csv('Customers.csv')\n",
    "products = pd.read_csv('Products.csv')\n",
    "transactions = pd.read_csv('Transactions.csv')"
   ]
  },
  {
   "cell_type": "code",
   "execution_count": 12,
   "id": "0bd2874f-83a4-4544-9c31-8e7faa026218",
   "metadata": {},
   "outputs": [],
   "source": [
    "# Merge datasets to create a comprehensive customer profile\n",
    "\n",
    "transactions = transactions.merge(products, on='ProductID', suffixes=('_transaction', '_product'))\n",
    "transactions = transactions.merge(customers, on='CustomerID', suffixes=('', '_customer'))\n",
    "\n"
   ]
  },
  {
   "cell_type": "code",
   "execution_count": 4,
   "id": "953d77e2-0041-4b15-b3b8-9509d1018fe5",
   "metadata": {},
   "outputs": [
    {
     "data": {
      "text/plain": [
       "Index(['TransactionID', 'CustomerID', 'ProductID', 'TransactionDate',\n",
       "       'Quantity', 'TotalValue', 'Price_transaction', 'ProductName',\n",
       "       'Category', 'Price_product', 'CustomerName', 'Region', 'SignupDate'],\n",
       "      dtype='object')"
      ]
     },
     "execution_count": 4,
     "metadata": {},
     "output_type": "execute_result"
    }
   ],
   "source": [
    "transactions.columns"
   ]
  },
  {
   "cell_type": "code",
   "execution_count": 13,
   "id": "3fc453ca-7ead-4db1-bef7-119fdad920d3",
   "metadata": {},
   "outputs": [
    {
     "name": "stdout",
     "output_type": "stream",
     "text": [
      "  TransactionID CustomerID ProductID      TransactionDate  Quantity  \\\n",
      "0        T00001      C0199      P067  2024-08-25 12:38:23         1   \n",
      "1        T00112      C0146      P067  2024-05-27 22:23:54         1   \n",
      "2        T00166      C0127      P067  2024-04-25 07:38:55         1   \n",
      "3        T00272      C0087      P067  2024-03-26 22:55:37         2   \n",
      "4        T00363      C0070      P067  2024-03-21 15:10:10         3   \n",
      "\n",
      "   TotalValue  ProductPrice                      ProductName ProductCategory  \\\n",
      "0      300.68        300.68  ComfortLiving Bluetooth Speaker     Electronics   \n",
      "1      300.68        300.68  ComfortLiving Bluetooth Speaker     Electronics   \n",
      "2      300.68        300.68  ComfortLiving Bluetooth Speaker     Electronics   \n",
      "3      601.36        300.68  ComfortLiving Bluetooth Speaker     Electronics   \n",
      "4      902.04        300.68  ComfortLiving Bluetooth Speaker     Electronics   \n",
      "\n",
      "      CustomerName CustomerRegion CustomerSignupDate  \n",
      "0   Andrea Jenkins         Europe         2022-12-03  \n",
      "1  Brittany Harvey           Asia         2024-09-04  \n",
      "2  Kathryn Stevens         Europe         2024-04-04  \n",
      "3  Travis Campbell  South America         2024-04-11  \n",
      "4    Timothy Perez         Europe         2022-03-15  \n"
     ]
    }
   ],
   "source": [
    "# Select relevant columns and remove duplicates\n",
    "transactions = transactions[[\n",
    "    'TransactionID', 'CustomerID', 'ProductID', 'TransactionDate', \n",
    "    'Quantity', 'TotalValue', 'Price_product', 'ProductName', 'Category',\n",
    "    'CustomerName', 'Region', 'SignupDate'\n",
    "]]\n",
    "\n",
    "# Rename columns for clarity\n",
    "transactions.rename(columns={\n",
    "    'Price_product': 'ProductPrice',\n",
    "    'ProductName': 'ProductName',\n",
    "    'Category': 'ProductCategory',\n",
    "    'CustomerName': 'CustomerName',\n",
    "    'Region': 'CustomerRegion',\n",
    "    'SignupDate': 'CustomerSignupDate'\n",
    "}, inplace=True)\n",
    "\n",
    "# Display the cleaned DataFrame\n",
    "print(transactions.head())\n"
   ]
  },
  {
   "cell_type": "code",
   "execution_count": 14,
   "id": "8f271f66-0dbb-4801-938f-addcbe788e41",
   "metadata": {},
   "outputs": [],
   "source": [
    "\n",
    "\n",
    "# Step 1: Feature Engineering\n",
    "# Create features for each customer\n",
    "customer_profile = transactions.groupby('CustomerID').agg({\n",
    "    'TotalValue': 'sum',  # Total spending\n",
    "    'TransactionID': 'count',  # Number of purchases\n",
    "    'Quantity': 'sum',  # Total quantity purchased\n",
    "    'ProductPrice': 'mean',  # Average product price\n",
    "    'ProductID': lambda x: x.mode()[0]  # Most purchased product\n",
    "}).reset_index()\n",
    "\n"
   ]
  },
  {
   "cell_type": "code",
   "execution_count": 15,
   "id": "61a57ecb-45eb-40a3-ae29-6f20f37a0554",
   "metadata": {},
   "outputs": [
    {
     "name": "stdout",
     "output_type": "stream",
     "text": [
      "   cust_id                                         lookalikes\n",
      "0    C0001  [(C0179, 0.9916346221269137), (C0160, 0.989230...\n",
      "1    C0002  [(C0030, 0.9924792466812008), (C0164, 0.980387...\n",
      "2    C0003  [(C0031, 0.987097662098253), (C0181, 0.9712021...\n",
      "3    C0004  [(C0175, 0.9837947292638719), (C0057, 0.960635...\n",
      "4    C0005  [(C0149, 0.9687578272292461), (C0023, 0.940558...\n",
      "5    C0006  [(C0040, 0.9888769559538623), (C0114, 0.981958...\n",
      "6    C0007  [(C0009, 0.985597868137347), (C0112, 0.9672417...\n",
      "7    C0008  [(C0173, 0.9761371057144449), (C0030, 0.917658...\n",
      "8    C0009  [(C0007, 0.985597868137347), (C0112, 0.9798007...\n",
      "9    C0010  [(C0034, 0.9883684199056102), (C0071, 0.156432...\n",
      "10   C0011  [(C0171, 0.9913508868399603), (C0073, 0.977605...\n",
      "11   C0012  [(C0133, 0.9598859142662605), (C0128, 0.872283...\n",
      "12   C0013  [(C0021, 0.9973904838876342), (C0101, 0.993665...\n",
      "13   C0014  [(C0071, 0.2127296481419964), (C0036, 0.201713...\n",
      "14   C0015  [(C0126, 0.9536137115590314), (C0036, 0.136864...\n",
      "15   C0016  [(C0046, 0.9562967784023849), (C0190, 0.950969...\n",
      "16   C0017  [(C0045, 0.907163481633092), (C0105, 0.8739674...\n",
      "17   C0018  [(C0026, 0.9821471546144821), (C0049, 0.960063...\n",
      "18   C0019  [(C0191, 0.7749571410298889), (C0071, 0.664883...\n",
      "19   C0020  [(C0036, 0.1387098122247573), (C0071, 0.119694...\n"
     ]
    }
   ],
   "source": [
    "customer_profile.rename(columns={\n",
    "    'TotalValue': 'TotalSpending',\n",
    "    'TransactionID': 'TotalTransactions',\n",
    "    'Quantity': 'TotalQuantity',\n",
    "    'ProductPrice': 'AvgProductPrice',\n",
    "    'ProductID': 'FavoriteProduct'\n",
    "}, inplace=True)\n",
    "\n",
    "# Convert categorical 'FavoriteProduct' into numerical features using one-hot encoding\n",
    "customer_profile = pd.get_dummies(customer_profile, columns=['FavoriteProduct'], drop_first=True)\n",
    "\n",
    "# Merge demographic data from Customers.csv\n",
    "customer_profile = customer_profile.merge(customers, on='CustomerID')\n",
    "\n",
    "# Step 2: Normalize Features for Similarity Computation\n",
    "scaler = StandardScaler()\n",
    "scaled_features = scaler.fit_transform(customer_profile.drop(columns=['CustomerID', 'CustomerName', 'Region', 'SignupDate']))\n",
    "\n",
    "# Step 3: Compute Similarity Matrix\n",
    "similarity_matrix = cosine_similarity(scaled_features)\n",
    "\n",
    "# Step 4: Find Top 3 Lookalikes for Each Customer\n",
    "lookalike_map = {}\n",
    "for idx, customer_id in enumerate(customer_profile['CustomerID']):\n",
    "    # Get similarity scores for the customer\n",
    "    sim_scores = list(enumerate(similarity_matrix[idx]))\n",
    "    # Sort by similarity score in descending order and exclude the customer themselves\n",
    "    sim_scores = sorted(sim_scores, key=lambda x: x[1], reverse=True)[1:]\n",
    "    # Get the top 3 similar customers\n",
    "    top_3 = [(customer_profile.iloc[i]['CustomerID'], score) for i, score in sim_scores[:3]]\n",
    "    lookalike_map[customer_id] = top_3\n",
    "\n",
    "# Step 5: Generate Lookalike.csv\n",
    "lookalike_data = []\n",
    "for cust_id, lookalikes in lookalike_map.items():\n",
    "    lookalike_data.append({\n",
    "        'cust_id': cust_id,\n",
    "        'lookalikes': lookalikes\n",
    "    })\n",
    "\n",
    "lookalike_df = pd.DataFrame(lookalike_data)\n",
    "lookalike_df.to_csv('Sapna_Saini_Lookalike.csv', index=False)\n",
    "\n",
    "# Step 6: Filter for the First 20 Customers\n",
    "filtered_lookalike_df = lookalike_df[lookalike_df['cust_id'].isin(customers['CustomerID'][:20])]\n",
    "print(filtered_lookalike_df)\n"
   ]
  },
  {
   "cell_type": "code",
   "execution_count": 17,
   "id": "e6fa731c-bdd1-43a1-945f-45054e3c3032",
   "metadata": {},
   "outputs": [
    {
     "name": "stdout",
     "output_type": "stream",
     "text": [
      "    CustomerID   CustomerName Region  SignupDate\n",
      "179      C0180  Amy Carpenter   Asia  2023-10-25\n"
     ]
    }
   ],
   "source": [
    "# print(customers[customers['CustomerID'] == 'C0180'])\n"
   ]
  },
  {
   "cell_type": "code",
   "execution_count": 18,
   "id": "28f0a0e6-be13-4b3e-8eec-d6c83c212279",
   "metadata": {},
   "outputs": [
    {
     "name": "stdout",
     "output_type": "stream",
     "text": [
      "Empty DataFrame\n",
      "Columns: [TransactionID, CustomerID, ProductID, TransactionDate, Quantity, TotalValue, ProductPrice, ProductName, ProductCategory, CustomerName, CustomerRegion, CustomerSignupDate]\n",
      "Index: []\n"
     ]
    }
   ],
   "source": [
    "# print(transactions[transactions['CustomerID'] == 'C0180'])\n"
   ]
  },
  {
   "cell_type": "code",
   "execution_count": null,
   "id": "27a9bb83-9186-450c-94f2-d1c1a0997f9c",
   "metadata": {},
   "outputs": [],
   "source": []
  },
  {
   "cell_type": "code",
   "execution_count": null,
   "id": "e655a464-302e-4230-a2a0-6a4a8cfb7c2e",
   "metadata": {},
   "outputs": [],
   "source": []
  }
 ],
 "metadata": {
  "kernelspec": {
   "display_name": "Python 3 (ipykernel)",
   "language": "python",
   "name": "python3"
  },
  "language_info": {
   "codemirror_mode": {
    "name": "ipython",
    "version": 3
   },
   "file_extension": ".py",
   "mimetype": "text/x-python",
   "name": "python",
   "nbconvert_exporter": "python",
   "pygments_lexer": "ipython3",
   "version": "3.11.9"
  }
 },
 "nbformat": 4,
 "nbformat_minor": 5
}
